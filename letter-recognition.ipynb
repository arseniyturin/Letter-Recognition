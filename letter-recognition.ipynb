{
 "cells": [
  {
   "cell_type": "markdown",
   "metadata": {},
   "source": [
    "# Handwritten Letter Recognition"
   ]
  },
  {
   "cell_type": "markdown",
   "metadata": {},
   "source": [
    "## Importing Libraries"
   ]
  },
  {
   "cell_type": "code",
   "execution_count": 1,
   "metadata": {},
   "outputs": [],
   "source": [
    "# General purpose libraries\n",
    "import os\n",
    "import matplotlib.pyplot as plt\n",
    "import numpy as np\n",
    "\n",
    "# Import Tensorflow model and layers\n",
    "from tensorflow.keras.layers import Dense, Flatten, Conv1D, MaxPooling1D\n",
    "from tensorflow.keras.models import Sequential\n",
    "from tensorflow.keras.backend import clear_session\n",
    "from tensorflow.keras.optimizers import Adam\n",
    "\n",
    "# Evaluation\n",
    "from sklearn.model_selection import train_test_split\n",
    "from sklearn.metrics import accuracy_score, f1_score\n",
    "from sklearn.metrics import confusion_matrix"
   ]
  },
  {
   "cell_type": "markdown",
   "metadata": {},
   "source": [
    "## Loading and Scaling Images"
   ]
  },
  {
   "cell_type": "code",
   "execution_count": 2,
   "metadata": {},
   "outputs": [],
   "source": [
    "letters = 'abcdefghijklmnopqrstuvwxyz'\n",
    "\n",
    "def prepare_data(letters, path = './data', oversampling=1):\n",
    "    \n",
    "    # Image data and classes\n",
    "    mnist_x = []\n",
    "    mnist_y = []\n",
    "\n",
    "    for number, letter in enumerate(list(letters)):\n",
    "        # Open a directory with current letter\n",
    "        for image in os.listdir(path+'/'+letter):\n",
    "            # read png only\n",
    "            if image[-3:] == 'png': \n",
    "                # Reading image into array, taking only Alpha channel in RGBA\n",
    "                mnist_x.append(plt.imread(path+'/'+letter+'/'+image)[:,:,3])\n",
    "                # Adding class according to the letter, like so: 0 => 'A', 1 => 'B'...\n",
    "                mnist_y.append(number)\n",
    "\n",
    "    # Saving both as numpy array\n",
    "    mnist_x = np.array(mnist_x)\n",
    "    mnist_y = np.array(mnist_y)\n",
    "\n",
    "    return mnist_x, mnist_y"
   ]
  },
  {
   "cell_type": "code",
   "execution_count": 3,
   "metadata": {},
   "outputs": [],
   "source": [
    "def scale(arr):\n",
    "    arr = (arr - arr.min()) / (arr.max() - arr.min())\n",
    "    return arr"
   ]
  },
  {
   "cell_type": "code",
   "execution_count": 4,
   "metadata": {},
   "outputs": [
    {
     "name": "stdout",
     "output_type": "stream",
     "text": [
      "Input shape: (2740, 28, 28)\n",
      "Output shape: (2740,)\n"
     ]
    }
   ],
   "source": [
    "mnist_x, mnist_y = prepare_data(letters)\n",
    "mnist_x = scale(mnist_x)\n",
    "\n",
    "print('Input shape:', mnist_x.shape)\n",
    "print('Output shape:', mnist_y.shape)"
   ]
  },
  {
   "cell_type": "markdown",
   "metadata": {},
   "source": [
    "## Train Test Split"
   ]
  },
  {
   "cell_type": "code",
   "execution_count": 5,
   "metadata": {},
   "outputs": [],
   "source": [
    "X_train, X_test, y_train, y_test = train_test_split(mnist_x, mnist_y, test_size=0.1, random_state=42)"
   ]
  },
  {
   "cell_type": "markdown",
   "metadata": {},
   "source": [
    "## Keras Model"
   ]
  },
  {
   "cell_type": "code",
   "execution_count": 8,
   "metadata": {},
   "outputs": [],
   "source": [
    "clear_session()\n",
    "\n",
    "model = Sequential()\n",
    "\n",
    "model.add(Conv1D(filters=28, kernel_size=2, strides=1, activation='relu', input_shape=(28, 28)))\n",
    "model.add(MaxPooling1D(1))\n",
    "\n",
    "model.add(Conv1D(filters=28, kernel_size=1, strides=1, activation='relu'))\n",
    "model.add(MaxPooling1D(1))\n",
    "\n",
    "model.add(Conv1D(filters=28, kernel_size=1, strides=1, activation='relu'))\n",
    "model.add(MaxPooling1D(1))\n",
    "\n",
    "model.add(Conv1D(filters=28, kernel_size=1, strides=1, activation='relu'))\n",
    "model.add(MaxPooling1D(1))\n",
    "\n",
    "model.add(Conv1D(filters=28, kernel_size=1, strides=1, activation='relu'))\n",
    "model.add(MaxPooling1D(1))\n",
    "\n",
    "\n",
    "model.add(Flatten())\n",
    "model.add(Dense(128, activation='relu'))\n",
    "model.add(Dense(len(letters), activation='softmax'))\n",
    "\n",
    "model.compile(\n",
    "    loss='sparse_categorical_crossentropy',\n",
    "    optimizer=Adam(0.001),\n",
    "    metrics=['accuracy'],\n",
    ")"
   ]
  },
  {
   "cell_type": "code",
   "execution_count": 9,
   "metadata": {},
   "outputs": [],
   "source": [
    "#model.summary()"
   ]
  },
  {
   "cell_type": "markdown",
   "metadata": {},
   "source": [
    "## Training and Evaluation"
   ]
  },
  {
   "cell_type": "code",
   "execution_count": 13,
   "metadata": {},
   "outputs": [
    {
     "name": "stdout",
     "output_type": "stream",
     "text": [
      "Epoch 1/5\n",
      "78/78 [==============================] - 0s 3ms/step - loss: 0.0121 - accuracy: 0.9976\n",
      "Epoch 2/5\n",
      "78/78 [==============================] - 0s 3ms/step - loss: 0.0031 - accuracy: 1.0000\n",
      "Epoch 3/5\n",
      "78/78 [==============================] - 0s 3ms/step - loss: 0.0016 - accuracy: 1.0000\n",
      "Epoch 4/5\n",
      "78/78 [==============================] - 0s 3ms/step - loss: 0.0011 - accuracy: 1.0000\n",
      "Epoch 5/5\n",
      "78/78 [==============================] - 0s 3ms/step - loss: 8.7331e-04 - accuracy: 1.0000\n"
     ]
    },
    {
     "data": {
      "image/png": "[encoded data removed]",
      "text/plain": [
       "<Figure size 432x288 with 1 Axes>"
      ]
     },
     "metadata": {},
     "output_type": "display_data"
    },
    {
     "name": "stdout",
     "output_type": "stream",
     "text": [
      "Model accuracy on Train: 1.0\n",
      "Model accuracy on Test: 0.8394160583941606\n"
     ]
    }
   ],
   "source": [
    "history = model.fit(X_train, y_train, epochs=5, verbose=1)\n",
    "\n",
    "plt.style.use('seaborn-whitegrid')\n",
    "plt.plot(history.history['loss'])\n",
    "plt.title('Loss')\n",
    "plt.xlabel('Epochs')\n",
    "plt.ylabel('Loss')\n",
    "plt.show()\n",
    "\n",
    "y_pred = np.argmax(model.predict(X_train), axis=-1)\n",
    "print('Model accuracy on Train:',accuracy_score(y_train, y_pred))\n",
    "\n",
    "y_pred = np.argmax(model.predict(X_test), axis=-1)\n",
    "print('Model accuracy on Test:',accuracy_score(y_test, y_pred))"
   ]
  },
  {
   "cell_type": "code",
   "execution_count": 12,
   "metadata": {},
   "outputs": [],
   "source": [
    "#confusion_matrix(y_test, y_pred)"
   ]
  },
  {
   "cell_type": "markdown",
   "metadata": {},
   "source": [
    "## Saving"
   ]
  },
  {
   "cell_type": "code",
   "execution_count": 14,
   "metadata": {},
   "outputs": [],
   "source": [
    "model.save('model.h5')"
   ]
  },
  {
   "cell_type": "markdown",
   "metadata": {},
   "source": [
    "## Exporting to TensorflowJS"
   ]
  },
  {
   "cell_type": "markdown",
   "metadata": {},
   "source": [
    "Converter will create `model.json` and `group1-shard1of1.bin` files"
   ]
  },
  {
   "cell_type": "code",
   "execution_count": null,
   "metadata": {},
   "outputs": [],
   "source": [
    "# pip install tensorflowjs"
   ]
  },
  {
   "cell_type": "code",
   "execution_count": null,
   "metadata": {},
   "outputs": [],
   "source": [
    "# tensorflowjs_converter --input_format=keras --output_format=tfjs_layers_model ./model.h5 ./app/"
   ]
  },
  {
   "cell_type": "markdown",
   "metadata": {},
   "source": [
    "## Load TensorflowJS"
   ]
  },
  {
   "cell_type": "code",
   "execution_count": null,
   "metadata": {},
   "outputs": [],
   "source": [
    "const model = null;\n",
    "async function loadModel() {\n",
    "    model = await tf.loadLayersModel('./model.json');\n",
    "}\n",
    "\n",
    "loadModel();"
   ]
  }
 ],
 "metadata": {
  "kernelspec": {
   "display_name": "Python 3",
   "language": "python",
   "name": "python3"
  },
  "language_info": {
   "codemirror_mode": {
    "name": "ipython",
    "version": 3
   },
   "file_extension": ".py",
   "mimetype": "text/x-python",
   "name": "python",
   "nbconvert_exporter": "python",
   "pygments_lexer": "ipython3",
   "version": "3.8.3"
  }
 },
 "nbformat": 4,
 "nbformat_minor": 4
}
